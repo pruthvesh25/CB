{
 "cells": [
  {
   "cell_type": "code",
   "execution_count": 2,
   "id": "1fd82be5-0f4c-4ddb-8876-b30ff605c480",
   "metadata": {},
   "outputs": [],
   "source": [
    "x1=[0,0,1,1]\n",
    "x2=[0,1,0,1]\n",
    "y=[0,0,1,0]"
   ]
  },
  {
   "cell_type": "code",
   "execution_count": 3,
   "id": "c2445f4c-cf8b-44d4-8fd0-686b548fa5b2",
   "metadata": {},
   "outputs": [],
   "source": [
    "def mcculloh(w1,w2):\n",
    "    x=[]\n",
    "    for i , j in zip(x1,x2):\n",
    "        k=(i*w1)+(j*w2)\n",
    "        if k<0:\n",
    "            x.append(0)\n",
    "        else:\n",
    "            x.append(k)\n",
    "    if y==x:\n",
    "        print(\"Done\")\n",
    "    else:\n",
    "        print(\"Invalid\")   \n",
    "    "
   ]
  },
  {
   "cell_type": "code",
   "execution_count": 4,
   "id": "bcb91c49-9488-4e8f-9dd9-a4ae92cb072d",
   "metadata": {},
   "outputs": [
    {
     "name": "stdout",
     "output_type": "stream",
     "text": [
      "Done\n"
     ]
    }
   ],
   "source": [
    "mcculloh(1,-1)"
   ]
  },
  {
   "cell_type": "code",
   "execution_count": null,
   "id": "6ad02b7e-37dd-4aa4-8935-5bb62fbe0a0c",
   "metadata": {},
   "outputs": [],
   "source": []
  }
 ],
 "metadata": {
  "kernelspec": {
   "display_name": "Python 3 (ipykernel)",
   "language": "python",
   "name": "python3"
  },
  "language_info": {
   "codemirror_mode": {
    "name": "ipython",
    "version": 3
   },
   "file_extension": ".py",
   "mimetype": "text/x-python",
   "name": "python",
   "nbconvert_exporter": "python",
   "pygments_lexer": "ipython3",
   "version": "3.12.1"
  }
 },
 "nbformat": 4,
 "nbformat_minor": 5
}
